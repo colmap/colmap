{
  "metadata": {
    "colab": {
      "provenance": [],
      "gpuType": "V28"
    },
    "kernelspec": {
      "name": "python3",
      "display_name": "Python 3"
    },
    "accelerator": "TPU",
    "language_info": {
      "name": "python",
      "version": "3.10.13",
      "mimetype": "text/x-python",
      "codemirror_mode": {
        "name": "ipython",
        "version": 3
      },
      "pygments_lexer": "ipython3",
      "nbconvert_exporter": "python",
      "file_extension": ".py"
    },
    "kaggle": {
      "accelerator": "nvidiaTeslaT4",
      "dataSources": [],
      "dockerImageVersionId": 30746,
      "isInternetEnabled": true,
      "language": "python",
      "sourceType": "notebook",
      "isGpuEnabled": true
    }
  },
  "nbformat_minor": 0,
  "nbformat": 4,
  "cells": [
    {
      "cell_type": "markdown",
      "source": [
        "# Colmap with TPU or GPU Support in Google Colab\n",
        "\n",
        "This Colab notebook demonstrates how to set up and use Colmap, a powerful structure-from-motion and multi-view stereo software, with both TPU and GPU acceleration in a Google Colab environment. By leveraging the computational capabilities of TPUs and GPUs, this notebook aims to provide an efficient and scalable solution for 3D reconstruction tasks.\n",
        "\n",
        "## Key Features\n",
        "- **Colmap Installation**: Step-by-step guide to installing Colmap in the Colab environment.\n",
        "- **Hardware Acceleration**: Configuration and utilization of TPU and GPU to speed up the processing. Make sure you set runtime type as GPU or TPU\n",
        "- **Sample Workflow**: Example usage of Colmap for 3D reconstruction from a set of images.\n",
        "- **Visualization**: Tools and techniques for visualizing the reconstructed 3D models within Colab.\n",
        "\n",
        "## Requirements\n",
        "- Basic understanding of Google Colab.\n",
        "- Familiarity with 3D reconstruction concepts.\n",
        "- A Google account for accessing Colab.\n",
        "\n",
        "By the end of this notebook, you will be able to perform efficient 3D reconstructions using Colmap with enhanced performance provided by TPU  or GPU resources.\n"
      ],
      "metadata": {
        "id": "Zsri5k2ltmG0"
      }
    },
    {
      "cell_type": "markdown",
      "source": [
        "# Install the required packages"
      ],
      "metadata": {
        "id": "SpaQWAQg1VtD"
      }
    },
    {
      "cell_type": "code",
      "source": [
        "!sudo apt-get install -y git\n",
        "!sudo apt-get install -y cmake\n",
        "!sudo apt-get install -y ninja-build\n",
        "!sudo apt-get install -y build-essential\n",
        "!sudo apt-get install -y libboost-program-options-dev\n",
        "!sudo apt-get install -y libboost-filesystem-dev\n",
        "!sudo apt-get install -y libboost-graph-dev\n",
        "!sudo apt-get install -y libboost-system-dev\n",
        "!sudo apt-get install -y libeigen3-dev\n",
        "!sudo apt-get install -y libflann-dev\n",
        "!sudo apt-get install -y libfreeimage-dev\n",
        "!sudo apt-get install -y libmetis-dev\n",
        "!sudo apt-get install -y libgoogle-glog-dev\n",
        "!sudo apt-get install -y libgtest-dev\n",
        "!sudo apt-get install -y libsqlite3-dev\n",
        "!sudo apt-get install -y libglew-dev\n",
        "!sudo apt-get install -y qtbase5-dev\n",
        "!sudo apt-get install -y libqt5opengl5-dev\n",
        "!sudo apt-get install -y libcgal-dev\n",
        "!sudo apt-get install -y libceres-dev\n"
      ],
      "metadata": {
        "id": "eGdRYPFIzvFs",
        "execution": {
          "iopub.status.busy": "2024-07-22T20:07:05.901835Z",
          "iopub.execute_input": "2024-07-22T20:07:05.902088Z",
          "iopub.status.idle": "2024-07-22T20:09:16.831667Z",
          "shell.execute_reply.started": "2024-07-22T20:07:05.902064Z",
          "shell.execute_reply": "2024-07-22T20:09:16.830514Z"
        },
        "trusted": true
      },
      "execution_count": null,
      "outputs": []
    },
    {
      "cell_type": "markdown",
      "source": [
        "# Clone Colmap repsitory"
      ],
      "metadata": {
        "id": "RvDoTZCPo5GM"
      }
    },
    {
      "cell_type": "code",
      "source": [
        "!pwd\n",
        "!git clone https://github.com/colmap/colmap.git\n",
        "%cd colmap"
      ],
      "metadata": {
        "execution": {
          "iopub.status.busy": "2024-07-22T20:10:02.063903Z",
          "iopub.execute_input": "2024-07-22T20:10:02.064693Z",
          "iopub.status.idle": "2024-07-22T20:10:05.987363Z",
          "shell.execute_reply.started": "2024-07-22T20:10:02.064655Z",
          "shell.execute_reply": "2024-07-22T20:10:05.986319Z"
        },
        "trusted": true,
        "id": "fv7nXFU7PqjX"
      },
      "execution_count": null,
      "outputs": []
    },
    {
      "cell_type": "markdown",
      "source": [
        "# Build and install Colmap from source\n"
      ],
      "metadata": {
        "id": "_oQC2D0vpCM8"
      }
    },
    {
      "cell_type": "code",
      "source": [
        "!pwd\n",
        "!mkdir build\n",
        "%cd build\n",
        "!cmake -GNinja ..\n",
        "!ninja\n",
        "!sudo ninja install"
      ],
      "metadata": {
        "execution": {
          "iopub.status.busy": "2024-07-22T20:10:19.636871Z",
          "iopub.execute_input": "2024-07-22T20:10:19.637489Z",
          "iopub.status.idle": "2024-07-22T20:10:25.997687Z",
          "shell.execute_reply.started": "2024-07-22T20:10:19.637453Z",
          "shell.execute_reply": "2024-07-22T20:10:25.996573Z"
        },
        "trusted": true,
        "id": "m2A7Ae5VPqjY"
      },
      "execution_count": null,
      "outputs": []
    },
    {
      "cell_type": "markdown",
      "source": [
        "## Run Colmap automatic reconstructor"
      ],
      "metadata": {
        "id": "yptHICvs1evY"
      }
    },
    {
      "cell_type": "code",
      "source": [
        "IMAGES_PATH = '/content/drive/MyDrive/images' # should be the path for your images\n",
        "WORKSPACE_PATH = '/content' # If you do not have sufficient Google Drive space, you can set your workspace to content to access more storage. However, please note that you may lose the Colmap results if the runtime is reset or disconnected.\n",
        "!colmap automatic_reconstructor \\\n",
        "    --workspace_path $WORKSPACE_PATH \\\n",
        "    --image_path $IMAGES_PATH"
      ],
      "metadata": {
        "id": "hZAEYVywV7Sh"
      },
      "execution_count": null,
      "outputs": []
    }
  ]
}